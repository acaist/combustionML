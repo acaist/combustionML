{
 "cells": [
  {
   "cell_type": "markdown",
   "metadata": {},
   "source": [
    "Training data is generated from CoolProp."
   ]
  },
  {
   "cell_type": "code",
   "execution_count": 1,
   "metadata": {},
   "outputs": [
    {
     "name": "stderr",
     "output_type": "stream",
     "text": [
      "Using TensorFlow backend.\n"
     ]
    }
   ],
   "source": [
    "import numpy as np\n",
    "from sklearn import preprocessing\n",
    "\n",
    "import CoolProp.CoolProp as CP\n",
    "\n",
    "import matplotlib.pyplot as plt\n",
    "\n",
    "from keras.models import Model\n",
    "from keras.layers import Dense, Activation, Input, BatchNormalization, Dropout\n",
    "from keras import layers\n",
    "from keras.callbacks import ModelCheckpoint\n",
    "\n",
    "\n",
    "def rho_TP_gen(x, fluid):\n",
    "    rho = CP.PropsSI('D', 'T', x[0], 'P', x[1], fluid)\n",
    "    return rho"
   ]
  },
  {
   "cell_type": "raw",
   "metadata": {},
   "source": [
    "The Neural network is build based on the popular resnet structure.\n",
    "\n",
    "![Image of resnet]\n",
    "(https://github.com/uqyge/combustionML/blob/master/ANN_realgas/images/residual_block.png \"Logo Title Text 1\")"
   ]
  },
  {
   "cell_type": "code",
   "execution_count": null,
   "metadata": {
    "collapsed": true
   },
   "outputs": [],
   "source": [
    "def res_block(input_tensor, n_neuron, stage, block, bn=False):\n",
    "    conv_name_base = 'res' + str(stage) + block + '_branch'\n",
    "    bn_name_base = 'bn' + str(stage) + block + '_branch'\n",
    "\n",
    "    x = Dense(n_neuron, name=conv_name_base + '2a')(input_tensor)\n",
    "    if bn:\n",
    "        x = BatchNormalization(axis=-1, name=bn_name_base + '2a')(x)\n",
    "    x = Activation('relu')(x)\n",
    "\n",
    "    x = Dense(n_neuron, name=conv_name_base + '2b')(x)\n",
    "    if bn:\n",
    "        x = BatchNormalization(axis=-1, name=bn_name_base + '2b')(x)\n",
    "    x = layers.add([x, input_tensor])\n",
    "    x = Activation('relu')(x)\n",
    "\n",
    "    return x"
   ]
  }
 ],
 "metadata": {
  "kernelspec": {
   "display_name": "Python 3",
   "language": "python",
   "name": "python3"
  },
  "language_info": {
   "codemirror_mode": {
    "name": "ipython",
    "version": 3.0
   },
   "file_extension": ".py",
   "mimetype": "text/x-python",
   "name": "python",
   "nbconvert_exporter": "python",
   "pygments_lexer": "ipython3",
   "version": "3.6.2"
  }
 },
 "nbformat": 4,
 "nbformat_minor": 0
}