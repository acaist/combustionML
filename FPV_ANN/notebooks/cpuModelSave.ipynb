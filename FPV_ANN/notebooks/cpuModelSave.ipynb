{
 "cells": [
  {
   "cell_type": "code",
   "execution_count": 1,
   "metadata": {},
   "outputs": [
    {
     "data": {
      "text/plain": [
       "['dense_3', 'dense_4', 'input_1', 'output_1']"
      ]
     },
     "execution_count": 1,
     "metadata": {},
     "output_type": "execute_result"
    }
   ],
   "source": [
    "import h5py\n",
    "import numpy as np\n",
    "import pandas as pd\n",
    "f = h5py.File('student.h5','r')\n",
    "dset=f['model_weights']\n",
    "list(dset)"
   ]
  },
  {
   "cell_type": "code",
   "execution_count": 6,
   "metadata": {},
   "outputs": [],
   "source": [
    "l1_w=dset['dense_3']['dense_3']['kernel:0'][:]\n",
    "l1_b=dset['dense_3']['dense_3']['bias:0'][:]\n",
    "l1_c=np.vstack([l1_w,l1_b])\n",
    "l1_c=pd.Series(list(l1_c)).to_json()\n",
    "\n",
    "l2_w=dset['dense_4']['dense_4']['kernel:0'][:]\n",
    "l2_b=dset['dense_4']['dense_4']['bias:0'][:]\n",
    "l2_c=np.vstack([l2_w,l2_b])\n",
    "l2_c=pd.Series(list(l2_c)).to_json()\n",
    "\n",
    "l3_w=dset['output_1']['output_1_4']['kernel:0'][:]\n",
    "l3_b=dset['output_1']['output_1_4']['bias:0'][:]\n",
    "l3_c=np.vstack([l3_w,l3_b])\n",
    "l3_c=pd.Series(list(l3_c)).to_json()\n",
    "\n"
   ]
  },
  {
   "cell_type": "code",
   "execution_count": 7,
   "metadata": {},
   "outputs": [],
   "source": [
    "!rm data.json\n",
    "print(\"{\",file=open('data.json','w'))\n",
    "print('\"l1\":',l1_c,file=open('data.json','a'))\n",
    "print(',\"l2\":',l2_c,file=open('data.json','a'))\n",
    "print(',\"output\":',l3_c,file=open('data.json','a'))\n",
    "print(\"}\",file=open('data.json','a'))"
   ]
  },
  {
   "cell_type": "code",
   "execution_count": null,
   "metadata": {},
   "outputs": [],
   "source": []
  }
 ],
 "metadata": {
  "kernelspec": {
   "display_name": "my_dev",
   "language": "python",
   "name": "my_dev"
  },
  "language_info": {
   "codemirror_mode": {
    "name": "ipython",
    "version": 3
   },
   "file_extension": ".py",
   "mimetype": "text/x-python",
   "name": "python",
   "nbconvert_exporter": "python",
   "pygments_lexer": "ipython3",
   "version": "3.6.6"
  }
 },
 "nbformat": 4,
 "nbformat_minor": 2
}
